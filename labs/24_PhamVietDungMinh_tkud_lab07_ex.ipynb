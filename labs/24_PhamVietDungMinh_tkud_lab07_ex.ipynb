{
 "cells": [
  {
   "cell_type": "markdown",
   "metadata": {},
   "source": [
    "# BÀI TẬP"
   ]
  },
  {
   "cell_type": "markdown",
   "metadata": {},
   "source": [
    "## Kiểm định đặc trưng tỉ lệ (p)"
   ]
  },
  {
   "cell_type": "markdown",
   "metadata": {},
   "source": [
    "### Bài 1\n",
    "\n",
    "Dataset 18 (__M&M__) chứa thông tin trọng lượng và màu sắc của mẫu các viên kẹo của hãng M&M. \n",
    "\n",
    "Sử dụng mẫu trên bạn hãy kiểm tra phát biểu sau: __\"20% kẹo M&M có màu đỏ\"__ với mức ý nghĩa là 5%\n",
    "\n",
    "*Hướng dẫn: tính tỷ lệ các viên kẹo có màu đỏ từ dữ liệu, sử dụng kết quả để kiểm định phát biểu trên*"
   ]
  },
  {
   "cell_type": "code",
   "execution_count": 15,
   "metadata": {},
   "outputs": [
    {
     "name": "stdout",
     "output_type": "stream",
     "text": [
      "Z-score: 3.6565517048676286\n",
      "p-value: 0.9998721845660817\n"
     ]
    }
   ],
   "source": [
    "import pandas as pd\n",
    "from scipy import stats\n",
    "from scipy.stats import binom\n",
    "from scipy.stats import poisson\n",
    "from scipy.stats import norm\n",
    "from scipy.stats import t\n",
    "df = pd.read_excel(\"18_M_M.xls\")\n",
    "red_count = df['Red'].count()\n",
    "total_count = df.shape[0]  # Số mẫu\n",
    "red_ratio = red_count / total_count\n",
    "red_ratio\n",
    "p = 0.20  # Tỷ lệ viên kẹo có màu đỏ theo giả thuyết không\n",
    "alpha = 0.05  # Mức ý nghĩa\n",
    "z_score = (red_ratio - p) / (p * (1 - p) / total_count)**0.5\n",
    "\n",
    "\n",
    "p_value = stats.norm.cdf(z_score)\n",
    "\n",
    "\n",
    "print(\"Z-score:\", z_score)\n",
    "print(\"p-value:\", p_value)"
   ]
  },
  {
   "cell_type": "markdown",
   "metadata": {},
   "source": [
    "### Bài 2\n",
    "\n",
    "Dataset 3 (__FRESH15__) chứa thông tin khảo sát những thay đổi về trọng lượng (weight - WT) và chỉ số khối của cơ thể (BMI) của sinh viên năm nhất tại một trường Đại Học. Thời điểm khảo sát là bắt đầu học kỳ (tháng 9 - SEP) và kết thúc học kỳ (tháng 4 - APR), các sinh viên được chọn ngẫu nhiên trong trường.\n",
    "\n",
    "Sử dụng mẫu trên, hãy kiểm tra phát biểu:__\"50% số sinh viên trong trường là nam\"__ với mức ý nghĩa 50%\n",
    "\n",
    "Các thuộc tính trong bộ dữ liệu:\n",
    "- SEX: Giới tính\n",
    "- WTSEP: trọng lượng đo vào tháng 9 (mới nhập học)\n",
    "- WTAPR: trọng lượng đo vào tháng 4 (kết thúc năm học)\n",
    "- BMISP: BMI tháng 9\n",
    "- BMIAP: BMI tháng 4"
   ]
  },
  {
   "cell_type": "code",
   "execution_count": 18,
   "metadata": {},
   "outputs": [
    {
     "name": "stdout",
     "output_type": "stream",
     "text": [
      "Tỷ lệ nam trong mẫu: 0.47761194029850745\n",
      "Z-score: -0.36650833306891584\n",
      "p-value: 0.356992897834691\n",
      "Không có đủ bằng chứng để bác bỏ giả thuyết không: Tỷ lệ nam có thể là 50%.\n"
     ]
    }
   ],
   "source": [
    "from scipy.stats import norm\n",
    "import pandas as pd\n",
    "import numpy as np\n",
    "df = pd.read_excel(\"03_FRESH15.xls\")\n",
    "df\n",
    "# Tính tổng số lượng nam và nữ\n",
    "male_count = df[df['SEX'] == 'M'].shape[0]\n",
    "total_count = df.shape[0]\n",
    "\n",
    "# Tính tỷ lệ nam\n",
    "male_ratio = male_count / total_count\n",
    "\n",
    "# Sử dụng phân phối chuẩn để tính z-score\n",
    "expected_male_ratio = 0.5\n",
    "std_error = np.sqrt(expected_male_ratio * (1 - expected_male_ratio) / total_count)\n",
    "z_score = (male_ratio - expected_male_ratio) / std_error\n",
    "\n",
    "# Tính p-value\n",
    "p_value = norm.cdf(z_score)\n",
    "\n",
    "# In kết quả kiểm định\n",
    "print(\"Tỷ lệ nam trong mẫu:\", male_ratio)\n",
    "print(\"Z-score:\", z_score)\n",
    "print(\"p-value:\", p_value)\n",
    "\n",
    "\n",
    "alpha = 0.05\n",
    "if p_value < alpha:\n",
    "    print(\"Có đủ bằng chứng để bác bỏ giả thuyết không: Tỷ lệ nam không phải là 50%.\")\n",
    "else:\n",
    "    print(\"Không có đủ bằng chứng để bác bỏ giả thuyết không: Tỷ lệ nam có thể là 50%.\")\n"
   ]
  },
  {
   "cell_type": "markdown",
   "metadata": {},
   "source": [
    "### Bài 3\n",
    "\n",
    "Dataset 6(__BEARS__) chứa thông tin khảo sát ngẫu nhiên các con gấu trong một khu rừng.\n",
    "\n",
    "Sử dụng mẫu trên, bạn hãy kiểm tra phát biểu: __\"tỷ lệ gấu đực trong khu rừng là 50%\"\"__ với mức ý nghĩa 90%.\n",
    "\n",
    "Biết rằng thuộc tính SEX có hai giá trị: 1 - gấu đực, 2- gấu cái."
   ]
  },
  {
   "cell_type": "code",
   "execution_count": 22,
   "metadata": {},
   "outputs": [
    {
     "name": "stdout",
     "output_type": "stream",
     "text": [
      "Tỷ lệ gấu đực trong mẫu: 0.6481481481481481\n",
      "Z-score: 2.1773242158072694\n",
      "p-value: 0.9852718071837143\n",
      "Không có đủ bằng chứng để bác bỏ giả thuyết: Tỷ lệ gấu đực có thể là 50%.\n"
     ]
    }
   ],
   "source": [
    "import pandas as pd\n",
    "from scipy.stats import norm\n",
    "df = pd.read_excel(\"06_BEARS.xls\")\n",
    "df\n",
    "\n",
    "male_count = df[df['SEX'] == 1].shape[0]\n",
    "total_count = df.shape[0]\n",
    "\n",
    "male_ratio = male_count / total_count\n",
    "\n",
    "expected_male_ratio = 0.5 \n",
    "std_error = (expected_male_ratio * (1 - expected_male_ratio) / total_count) ** 0.5\n",
    "z_score = (male_ratio - expected_male_ratio) / std_error\n",
    "\n",
    "# Tính p-value\n",
    "p_value = norm.cdf(z_score)\n",
    "\n",
    "# In kết quả kiểm định\n",
    "print(\"Tỷ lệ gấu đực trong mẫu:\", male_ratio)\n",
    "print(\"Z-score:\", z_score)\n",
    "print(\"p-value:\", p_value)\n",
    "\n",
    "# Kiểm tra mức ý nghĩa và đưa ra kết luận\n",
    "alpha = 0.1  \n",
    "if p_value < alpha:\n",
    "    print(\"Có đủ bằng chứng để bác bỏ giả thuyết: Tỷ lệ gấu đực không phải là 50%.\")\n",
    "else:\n",
    "    print(\"Không có đủ bằng chứng để bác bỏ giả thuyết: Tỷ lệ gấu đực có thể là 50%.\")\n"
   ]
  },
  {
   "cell_type": "markdown",
   "metadata": {},
   "source": [
    "### Bài 4\n",
    "\n",
    "Dataset 9 __(MOVIES)__ chứa thông tin khảo sát một số phim trong khoảng thời gian 33 năm gần đây.\n",
    "\n",
    "Có ý kiến cho rằng: __\"55% các phim trong khoảng thời gian 33 năm gần đây có nhãn R (là phim giới hạn độ tuổi - Restricted)\"__ .Theo bạn với mức ý nghĩa 95% ý kiến trên có đúng không?\n",
    "\n",
    "Tham khảo: [Hệ thống phân loại của hiệp hội điện ảnh Mỹ](https://vi.wikipedia.org/wiki/H%E1%BB%87_th%E1%BB%91ng_ph%C3%A2n_lo%E1%BA%A1i_phim_c%E1%BB%A7a_MPAA#Ph%C3%A2n_lo%E1%BA%A1i_v%E1%BB%9Bi_c%C3%A1c_trailer_phim)"
   ]
  },
  {
   "cell_type": "code",
   "execution_count": 24,
   "metadata": {},
   "outputs": [
    {
     "name": "stdout",
     "output_type": "stream",
     "text": [
      "Tỷ lệ phim có nhãn R trong mẫu: 0.34285714285714286\n",
      "Z-score: -2.4632947586151905\n",
      "p-value: 0.006883334395522401\n",
      "Có đủ bằng chứng để bác bỏ ý kiến: 55% các phim có nhãn R.\n"
     ]
    }
   ],
   "source": [
    "import pandas as pd\n",
    "from scipy.stats import norm\n",
    "df = pd.read_excel(\"09_MOVIES.xls\")\n",
    "df\n",
    "r_count = df[df['MPAA'] == 'R'].shape[0]\n",
    "total_count = df.shape[0]\n",
    "\n",
    "# Tính tỷ lệ phim có nhãn R\n",
    "r_ratio = r_count / total_count\n",
    "\n",
    "# Sử dụng phân phối chuẩn để tính z-score\n",
    "expected_ratio = 0.55  # Ý kiến là 55%\n",
    "std_error = (expected_ratio * (1 - expected_ratio) / total_count) ** 0.5\n",
    "z_score = (r_ratio - expected_ratio) / std_error\n",
    "\n",
    "# Tính p-value\n",
    "p_value = norm.cdf(z_score)\n",
    "\n",
    "print(\"Tỷ lệ phim có nhãn R trong mẫu:\", r_ratio)\n",
    "print(\"Z-score:\", z_score)\n",
    "print(\"p-value:\", p_value)\n",
    "\n",
    "alpha = 0.05\n",
    "if p_value < alpha:\n",
    "    print(\"Có đủ bằng chứng để bác bỏ ý kiến: 55% các phim có nhãn R.\")\n",
    "else:\n",
    "    print(\"Không có đủ bằng chứng để bác bỏ ý kiến: 55% các phim có nhãn R.\")"
   ]
  },
  {
   "cell_type": "markdown",
   "metadata": {},
   "source": [
    "## Kiểm định đặc trưng kỳ vọng ($\\mu$) biết ($\\sigma$)"
   ]
  },
  {
   "cell_type": "markdown",
   "metadata": {},
   "source": [
    "### Bài 5\n",
    "\n",
    "Dataset 13 __(VOLTAGE)__ liệt kê các mức điện áp được đo tại các hộ gia đình bởi các máy đo khác nhau: tại nhà (HOME), tại máy phát độc lập (Generator), tại trạm phát (UPS).\n",
    "\n",
    "Công ty cung cấp điện cho vùng này cam kết rằng: __\"Mục tiêu cung cấp điện cho mỗi hộ gia đình là 120V\"__ . Biết rằng độ lệch chuẩn của tất cả các mức điện áp đo được là 0.24V.\n",
    "\n",
    "Với mức ý nghĩa 1%. Bạn hãy kiểm tra xem công ty có làm đúng cam kết hay không?"
   ]
  },
  {
   "cell_type": "code",
   "execution_count": 26,
   "metadata": {},
   "outputs": [
    {
     "name": "stdout",
     "output_type": "stream",
     "text": [
      "Công ty không làm đúng cam kết với mức ý nghĩa 1%.\n"
     ]
    }
   ],
   "source": [
    "import pandas as pd\n",
    "from scipy.stats import norm\n",
    "df = pd.read_excel(\"13_VOLTAGE.xls\")\n",
    "df\n",
    "home_voltage = df['Home']\n",
    "generator_voltage = df['Generator']\n",
    "ups_voltage = df['UPS']\n",
    "\n",
    "# Tính trung bình mỗi cột\n",
    "mean_home = home_voltage.mean()\n",
    "mean_generator = generator_voltage.mean()\n",
    "mean_ups = ups_voltage.mean()\n",
    "\n",
    "# Thông số của phân phối chuẩn (độ lệch chuẩn đã được cung cấp)\n",
    "std_dev = 0.24 / (len(df) ** 0.5)\n",
    "\n",
    "# Tính z-score cho mỗi cột\n",
    "z_score_home = (mean_home - 120) / std_dev\n",
    "z_score_generator = (mean_generator - 120) / std_dev\n",
    "z_score_ups = (mean_ups - 120) / std_dev\n",
    "\n",
    "# Tính p-value cho mỗi cột\n",
    "p_value_home = norm.cdf(z_score_home)\n",
    "p_value_generator = norm.cdf(z_score_generator)\n",
    "p_value_ups = norm.cdf(z_score_ups)\n",
    "\n",
    "alpha = 0.01\n",
    "if p_value_home < alpha and p_value_generator < alpha and p_value_ups < alpha:\n",
    "    print(\"Công ty đã làm đúng cam kết với mức ý nghĩa 1%.\")\n",
    "else:\n",
    "    print(\"Công ty không làm đúng cam kết với mức ý nghĩa 1%.\")"
   ]
  },
  {
   "cell_type": "markdown",
   "metadata": {},
   "source": [
    "## Kiểm định đặc trưng kỳ vọng ($\\mu$) không biết ($\\sigma$)"
   ]
  },
  {
   "cell_type": "markdown",
   "metadata": {},
   "source": [
    "### Bài 7\n",
    "\n",
    "Dataset 19(__SCREWS__) chứa thông tin khảo sát chiều dài một số đinh ốc được cung cấp bởi công ty Crown Bolt (đơn vị inches)\n",
    "\n",
    "Trên bao bì của các đinh ốc do công ty sản xuất có ghi chiều dài của các đinh ốc là 3/4 inches. Sử dụng mẫu trên bạn hãy cho biết chiều dài của đinh ốc lấy từ mẫu thu nhận được từ dữ liệu trên có nhất quán với chiều dài ghi trên bao bì hay không? Kiểm định với mức ý nghĩa 5%"
   ]
  },
  {
   "cell_type": "code",
   "execution_count": 46,
   "metadata": {},
   "outputs": [
    {
     "name": "stdout",
     "output_type": "stream",
     "text": [
      "Giá trị thống kê t: -1.8249114276291665\n",
      "p-value: 0.07411353815940824\n",
      "Không đủ bằng chứng để bác bỏ giả thuyết null.\n"
     ]
    }
   ],
   "source": [
    "import pandas as pd\n",
    "from scipy.stats import norm\n",
    "df = pd.read_excel(\"19_SCREWS.xls\")\n",
    "df\n",
    "data = df[\"SCREWS\"].values\n",
    "mu = 0.75\n",
    "\n",
    "t_statistic = (data.mean() - mu) / (data.std(ddof=1) / (len(data) ** 0.5))\n",
    "p_value = 2 * (1 - t.cdf(abs(t_statistic), df=len(data) - 1))\n",
    "\n",
    "# In kết quả\n",
    "alpha = 0.05\n",
    "print(\"Giá trị thống kê t:\", t_statistic)\n",
    "print(\"p-value:\", p_value)\n",
    "if p_value < alpha:\n",
    "    print(\"Có đủ bằng chứng để bác bỏ giả thuyết.\")\n",
    "else:\n",
    "    print(\"Không đủ bằng chứng để bác bỏ giả thuyết.\")"
   ]
  },
  {
   "cell_type": "markdown",
   "metadata": {},
   "source": [
    "### Bài 8\n",
    "\n",
    "Dataset 13 __(VOLTAGE)__ liệt kê các mức điện áp được đo tại các hộ gia đình bởi các máy đo khác nhau: tại nhà (HOME), tại máy phát độc lập (Generator), tại trạm phát (UPS).\n",
    "\n",
    "Công ty cung cấp điện cho vùng này cam kết rằng: __\"Mục tiêu cung cấp điện cho mỗi hộ gia đình là 120V\"__ .\n",
    "\n",
    "Với mức ý nghĩa 1%. Bạn hãy kiểm tra xem công ty có làm đúng cam kết hay không?"
   ]
  },
  {
   "cell_type": "code",
   "execution_count": 38,
   "metadata": {},
   "outputs": [
    {
     "name": "stdout",
     "output_type": "stream",
     "text": [
      "Home Voltage:\n",
      "t-score: 96.51534941972227\n",
      "p-value: 0.0\n",
      "Generator Voltage:\n",
      "t-score: 122.86766325445876\n",
      "p-value: 0.0\n",
      "UPS Voltage:\n",
      "t-score: 94.53892588211733\n",
      "p-value: 0.0\n",
      "Công ty đã làm đúng cam kết với mức ý nghĩa 1%.\n"
     ]
    }
   ],
   "source": [
    "import pandas as pd\n",
    "from scipy.stats import norm\n",
    "df = pd.read_excel(\"13_VOLTAGE.xls\")\n",
    "df\n",
    "home_voltage = df['Home']\n",
    "generator_voltage = df['Generator']\n",
    "ups_voltage = df['UPS']\n",
    "\n",
    "n = len(df)\n",
    "\n",
    "std_dev = 0.24\n",
    "\n",
    "alpha = 0.01 \n",
    "\n",
    "# Trung bình của mẫu (sample mean)\n",
    "mean_home = home_voltage.mean()\n",
    "mean_generator = generator_voltage.mean()\n",
    "mean_ups = ups_voltage.mean()\n",
    "\n",
    "# Tính giá trị t-score cho từng mẫu\n",
    "t_score_home = (mean_home - 120) / (std_dev / (n ** 0.5))\n",
    "t_score_generator = (mean_generator - 120) / (std_dev / (n ** 0.5))\n",
    "t_score_ups = (mean_ups - 120) / (std_dev / (n ** 0.5))\n",
    "\n",
    "# Tính p-value cho từng mẫu\n",
    "p_value_home = 2 * (1 - t.cdf(abs(t_score_home), df=n - 1))  # 2-tailed test\n",
    "p_value_generator = 2 * (1 - t.cdf(abs(t_score_generator), df=n - 1))  # 2-tailed test\n",
    "p_value_ups = 2 * (1 - t.cdf(abs(t_score_ups), df=n - 1))  # 2-tailed test\n",
    "\n",
    "print(\"Home Voltage:\")\n",
    "print(\"t-score:\", t_score_home)\n",
    "print(\"p-value:\", p_value_home)\n",
    "print(\"Generator Voltage:\")\n",
    "print(\"t-score:\", t_score_generator)\n",
    "print(\"p-value:\", p_value_generator)\n",
    "print(\"UPS Voltage:\")\n",
    "print(\"t-score:\", t_score_ups)\n",
    "print(\"p-value:\", p_value_ups)\n",
    "\n",
    "if p_value_home < alpha and p_value_generator < alpha and p_value_ups < alpha:\n",
    "    print(\"Công ty đã làm đúng cam kết với mức ý nghĩa 1%.\")\n",
    "else:\n",
    "    print(\"Công ty không làm đúng cam kết với mức ý nghĩa 1%.\")"
   ]
  },
  {
   "cell_type": "markdown",
   "metadata": {},
   "source": [
    "### Bài 9\n",
    "\n",
    "Dataset 2 __(BODYTEMP)__ chứa thông tin khảo sát nhiệt độ cơ thể từ một nhóm người vào cùng một thời điểm lúc 12h trưa.\n",
    "\n",
    "Có một phát biểu nói rằng, nhiệt độ cơ thể người đo lúc 12h trưa trong quần thể này là 98,6°\n",
    "\n",
    "Dựa vào mẫu trên, bạn hãy cho biết phát biểu trên đúng hay sai ở mức ý nghĩa là 5%."
   ]
  },
  {
   "cell_type": "code",
   "execution_count": 60,
   "metadata": {},
   "outputs": [
    {
     "name": "stdout",
     "output_type": "stream",
     "text": [
      "Giá trị thống kê t: -6.611455226059064\n",
      "p-value: 1.6266559210720288e-09\n",
      "Có đủ bằng chứng để bác bỏ giả thuyết.\n"
     ]
    }
   ],
   "source": [
    "import pandas as pd\n",
    "from scipy.stats import norm\n",
    "df = pd.read_excel(\"02_BODYTEMP.xls\")\n",
    "data = df[\"BODYTEMP\"].values\n",
    "\n",
    "# Nhiệt độ trung bình được phát biểu (98.6°F)\n",
    "mu = 98.6\n",
    "\n",
    "# Tiến hành kiểm định\n",
    "t_statistic = (data.mean() - mu) / (data.std(ddof=1) / (len(data) ** 0.5))\n",
    "p_value = 2 * (1 - t.cdf(abs(t_statistic), df=len(data) - 1))\n",
    "\n",
    "# In kết quả\n",
    "alpha = 0.05\n",
    "print(\"Giá trị thống kê t:\", t_statistic)\n",
    "print(\"p-value:\", p_value)\n",
    "if p_value < alpha:\n",
    "    print(\"Có đủ bằng chứng để bác bỏ giả thuyết.\")\n",
    "else:\n",
    "    print(\"Không đủ bằng chứng để bác bỏ giả thuyết.\")"
   ]
  },
  {
   "cell_type": "markdown",
   "metadata": {},
   "source": [
    "### Bài 10\n",
    "\n",
    "__FICO Score__ là đại lượng dùng để đo khả năng tín dụng của một cá nhân hoặc một tập thể. Sử dụng FICO Score, ngân hàng có thể quyết định xem có nên cho khách hàng mượn tiền hay không?\n",
    "\n",
    "Dataset 24 __(FICO)__ chứa thông tin điểm tín dụng (FICO Score) của một số cá nhân trong vùng.\n",
    "\n",
    "Sử dụng dữ liệu mẫu từ, bạn hãy cho biết ý kiến: __\"điểm tín dùng trung bình của quần thể là 678\"__ là đúng hay sai với mức ý nghĩa 5%"
   ]
  },
  {
   "cell_type": "code",
   "execution_count": 67,
   "metadata": {},
   "outputs": [
    {
     "name": "stdout",
     "output_type": "stream",
     "text": [
      "Giả thuyết null: Điểm tín dụng trung bình của quần thể là 678\n",
      "Giá trị thống kê t: 2.722543294319562\n",
      "p-value: 0.007656599195072242\n",
      "Có đủ bằng chứng để bác bỏ giả thuyết.\n"
     ]
    }
   ],
   "source": [
    "import pandas as pd\n",
    "from scipy.stats import ttest_1samp\n",
    "df = pd.read_excel(\"24_FICO.xls\")\n",
    "df\n",
    "mu = 678\n",
    "t_statistic, p_value = ttest_1samp(df[\"FICO\"], mu)\n",
    "\n",
    "# In kết quả\n",
    "alpha = 0.05\n",
    "print(\"Giả thuyết null: Điểm tín dụng trung bình của quần thể là\", mu)\n",
    "print(\"Giá trị thống kê t:\", t_statistic)\n",
    "print(\"p-value:\", p_value)\n",
    "if p_value < alpha:\n",
    "    print(\"Có đủ bằng chứng để bác bỏ giả thuyết.\")\n",
    "else:\n",
    "    print(\"Không đủ bằng chứng để bác bỏ giả thuyết.\")"
   ]
  },
  {
   "cell_type": "markdown",
   "metadata": {},
   "source": [
    "---"
   ]
  }
 ],
 "metadata": {
  "kernelspec": {
   "display_name": "Python 3 (ipykernel)",
   "language": "python",
   "name": "python3"
  },
  "language_info": {
   "codemirror_mode": {
    "name": "ipython",
    "version": 3
   },
   "file_extension": ".py",
   "mimetype": "text/x-python",
   "name": "python",
   "nbconvert_exporter": "python",
   "pygments_lexer": "ipython3",
   "version": "3.11.5"
  }
 },
 "nbformat": 4,
 "nbformat_minor": 2
}
